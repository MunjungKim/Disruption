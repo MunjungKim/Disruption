{
 "cells": [
  {
   "cell_type": "code",
   "execution_count": 1,
   "id": "b45f77ef-c1d6-4188-86cf-a8e02559f41a",
   "metadata": {},
   "outputs": [],
   "source": [
    "import pandas as pd\n",
    "import matplotlib.pyplot as plt\n",
    "import numpy as np"
   ]
  },
  {
   "cell_type": "code",
   "execution_count": 2,
   "id": "8aa959ee-46fc-45e3-808b-50da7be2448c",
   "metadata": {},
   "outputs": [],
   "source": [
    "from utils.data_loading import load_disruption_distance\n",
    "from utils.data_loading import load_papers"
   ]
  },
  {
   "cell_type": "code",
   "execution_count": 3,
   "id": "f74f4318-0ecf-4cee-82db-c44420f0b392",
   "metadata": {},
   "outputs": [],
   "source": [
    "import scipy"
   ]
  },
  {
   "cell_type": "markdown",
   "id": "bd89ca7f-47e4-4cd1-a6a5-8505cd4c39f8",
   "metadata": {},
   "source": [
    "# Data loading"
   ]
  },
  {
   "cell_type": "markdown",
   "id": "bc4e996f-58c6-4ab8-8049-a0db8ddc2c97",
   "metadata": {},
   "source": [
    "### Paper information"
   ]
  },
  {
   "cell_type": "code",
   "execution_count": 4,
   "id": "141c3561-3869-42bf-8e47-31deb50c509b",
   "metadata": {},
   "outputs": [
    {
     "data": {
      "text/html": [
       "<div>\n",
       "<style scoped>\n",
       "    .dataframe tbody tr th:only-of-type {\n",
       "        vertical-align: middle;\n",
       "    }\n",
       "\n",
       "    .dataframe tbody tr th {\n",
       "        vertical-align: top;\n",
       "    }\n",
       "\n",
       "    .dataframe thead th {\n",
       "        text-align: right;\n",
       "    }\n",
       "</style>\n",
       "<table border=\"1\" class=\"dataframe\">\n",
       "  <thead>\n",
       "    <tr style=\"text-align: right;\">\n",
       "      <th></th>\n",
       "      <th>paper_id</th>\n",
       "      <th>doi</th>\n",
       "      <th>year</th>\n",
       "      <th>date</th>\n",
       "      <th>journal_code</th>\n",
       "      <th>title</th>\n",
       "      <th>PACS1</th>\n",
       "      <th>PACS2</th>\n",
       "      <th>PACS3</th>\n",
       "      <th>PACS4</th>\n",
       "      <th>PACS5</th>\n",
       "      <th>category</th>\n",
       "    </tr>\n",
       "  </thead>\n",
       "  <tbody>\n",
       "    <tr>\n",
       "      <th>0</th>\n",
       "      <td>0</td>\n",
       "      <td>10.1103/PhysRev.1.124</td>\n",
       "      <td>1913.0</td>\n",
       "      <td>1913-02-01</td>\n",
       "      <td>PR</td>\n",
       "      <td>An Absolute Determination of the Viscosity of Air</td>\n",
       "      <td>None</td>\n",
       "      <td>None</td>\n",
       "      <td>None</td>\n",
       "      <td>None</td>\n",
       "      <td>None</td>\n",
       "      <td>None</td>\n",
       "    </tr>\n",
       "    <tr>\n",
       "      <th>1</th>\n",
       "      <td>1</td>\n",
       "      <td>10.1103/PhysRev.1.16</td>\n",
       "      <td>1913.0</td>\n",
       "      <td>1913-01-01</td>\n",
       "      <td>PR</td>\n",
       "      <td>The Velocity of Electrons in the Photo-electri...</td>\n",
       "      <td>None</td>\n",
       "      <td>None</td>\n",
       "      <td>None</td>\n",
       "      <td>None</td>\n",
       "      <td>None</td>\n",
       "      <td>None</td>\n",
       "    </tr>\n",
       "    <tr>\n",
       "      <th>2</th>\n",
       "      <td>2</td>\n",
       "      <td>10.1103/PhysRev.1.218</td>\n",
       "      <td>1913.0</td>\n",
       "      <td>1913-03-01</td>\n",
       "      <td>PR</td>\n",
       "      <td>Brownian Movements in Gases at Low Pressures</td>\n",
       "      <td>None</td>\n",
       "      <td>None</td>\n",
       "      <td>None</td>\n",
       "      <td>None</td>\n",
       "      <td>None</td>\n",
       "      <td>None</td>\n",
       "    </tr>\n",
       "    <tr>\n",
       "      <th>3</th>\n",
       "      <td>3</td>\n",
       "      <td>10.1103/PhysRev.1.237</td>\n",
       "      <td>1913.0</td>\n",
       "      <td>1913-03-01</td>\n",
       "      <td>PR</td>\n",
       "      <td>Proceedings of the American Physical Society</td>\n",
       "      <td>None</td>\n",
       "      <td>None</td>\n",
       "      <td>None</td>\n",
       "      <td>None</td>\n",
       "      <td>None</td>\n",
       "      <td>None</td>\n",
       "    </tr>\n",
       "    <tr>\n",
       "      <th>4</th>\n",
       "      <td>4</td>\n",
       "      <td>10.1103/PhysRev.1.259</td>\n",
       "      <td>1913.0</td>\n",
       "      <td>1913-04-01</td>\n",
       "      <td>PR</td>\n",
       "      <td>The Annealing of Steel in an Alternating Magne...</td>\n",
       "      <td>None</td>\n",
       "      <td>None</td>\n",
       "      <td>None</td>\n",
       "      <td>None</td>\n",
       "      <td>None</td>\n",
       "      <td>None</td>\n",
       "    </tr>\n",
       "  </tbody>\n",
       "</table>\n",
       "</div>"
      ],
      "text/plain": [
       "   paper_id                    doi    year        date journal_code  \\\n",
       "0         0  10.1103/PhysRev.1.124  1913.0  1913-02-01           PR   \n",
       "1         1   10.1103/PhysRev.1.16  1913.0  1913-01-01           PR   \n",
       "2         2  10.1103/PhysRev.1.218  1913.0  1913-03-01           PR   \n",
       "3         3  10.1103/PhysRev.1.237  1913.0  1913-03-01           PR   \n",
       "4         4  10.1103/PhysRev.1.259  1913.0  1913-04-01           PR   \n",
       "\n",
       "                                               title PACS1 PACS2 PACS3 PACS4  \\\n",
       "0  An Absolute Determination of the Viscosity of Air  None  None  None  None   \n",
       "1  The Velocity of Electrons in the Photo-electri...  None  None  None  None   \n",
       "2       Brownian Movements in Gases at Low Pressures  None  None  None  None   \n",
       "3       Proceedings of the American Physical Society  None  None  None  None   \n",
       "4  The Annealing of Steel in an Alternating Magne...  None  None  None  None   \n",
       "\n",
       "  PACS5 category  \n",
       "0  None     None  \n",
       "1  None     None  \n",
       "2  None     None  \n",
       "3  None     None  \n",
       "4  None     None  "
      ]
     },
     "execution_count": 4,
     "metadata": {},
     "output_type": "execute_result"
    }
   ],
   "source": [
    "papers_df = load_papers('/gpfs/sciencegenome/AuthorDynamics/data/aps/preprocessed/paper_table.csv')\n",
    "papers_df.head()"
   ]
  },
  {
   "cell_type": "code",
   "execution_count": 4,
   "id": "fb2ef1e4-9df8-4dcb-965d-e13d5822f301",
   "metadata": {},
   "outputs": [
    {
     "ename": "NameError",
     "evalue": "name 'papers_df' is not defined",
     "output_type": "error",
     "traceback": [
      "\u001b[0;31m---------------------------------------------------------------------------\u001b[0m",
      "\u001b[0;31mNameError\u001b[0m                                 Traceback (most recent call last)",
      "Cell \u001b[0;32mIn [4], line 5\u001b[0m\n\u001b[1;32m      3\u001b[0m citations \u001b[38;5;241m=\u001b[39m np\u001b[38;5;241m.\u001b[39marray(net\u001b[38;5;241m.\u001b[39msum(axis\u001b[38;5;241m=\u001b[39m\u001b[38;5;241m0\u001b[39m))[\u001b[38;5;241m0\u001b[39m]\n\u001b[1;32m      4\u001b[0m references \u001b[38;5;241m=\u001b[39m np\u001b[38;5;241m.\u001b[39marray(net\u001b[38;5;241m.\u001b[39msum(axis\u001b[38;5;241m=\u001b[39m\u001b[38;5;241m1\u001b[39m))\u001b[38;5;241m.\u001b[39mreshape((\u001b[38;5;241m1\u001b[39m,\u001b[38;5;241m-\u001b[39m\u001b[38;5;241m1\u001b[39m))[\u001b[38;5;241m0\u001b[39m]\n\u001b[0;32m----> 5\u001b[0m papers_df[\u001b[38;5;124m'\u001b[39m\u001b[38;5;124mcitations\u001b[39m\u001b[38;5;124m'\u001b[39m] \u001b[38;5;241m=\u001b[39m \u001b[43mpapers_df\u001b[49m[\u001b[38;5;124m'\u001b[39m\u001b[38;5;124mpaper_id\u001b[39m\u001b[38;5;124m'\u001b[39m]\u001b[38;5;241m.\u001b[39mapply(\u001b[38;5;28;01mlambda\u001b[39;00m x: citations[x])\n\u001b[1;32m      6\u001b[0m papers_df[\u001b[38;5;124m'\u001b[39m\u001b[38;5;124mreferences\u001b[39m\u001b[38;5;124m'\u001b[39m] \u001b[38;5;241m=\u001b[39m papers_df[\u001b[38;5;124m'\u001b[39m\u001b[38;5;124mpaper_id\u001b[39m\u001b[38;5;124m'\u001b[39m]\u001b[38;5;241m.\u001b[39mapply(\u001b[38;5;28;01mlambda\u001b[39;00m x: references[x])\n",
      "\u001b[0;31mNameError\u001b[0m: name 'papers_df' is not defined"
     ]
    }
   ],
   "source": [
    "#citation network\n",
    "net = scipy.sparse.load_npz(\"/gpfs/sciencegenome/AuthorDynamics/data/aps/preprocessed/citation_net.npz\")\n",
    "citations = np.array(net.sum(axis=0))[0]\n",
    "references = np.array(net.sum(axis=1)).reshape((1,-1))[0]\n",
    "papers_df['citations'] = papers_df['paper_id'].apply(lambda x: citations[x])\n",
    "papers_df['references'] = papers_df['paper_id'].apply(lambda x: references[x])"
   ]
  },
  {
   "cell_type": "code",
   "execution_count": null,
   "id": "af909a78-329a-4fac-a314-2e2ef9138cc0",
   "metadata": {},
   "outputs": [],
   "source": [
    "papers_df = papers_df[papers_df['citations']!=0]"
   ]
  },
  {
   "cell_type": "code",
   "execution_count": null,
   "id": "150d730d-1293-4e87-8efd-05c731be9076",
   "metadata": {},
   "outputs": [],
   "source": [
    "papers_df = papers_df[papers_df['references']!=0]"
   ]
  },
  {
   "cell_type": "code",
   "execution_count": 8,
   "id": "b091b067-62eb-4461-8a47-113661dde055",
   "metadata": {},
   "outputs": [],
   "source": [
    "NETWORKS_NAME = ['original']\n",
    "MEASURE = ['150_5_q_1_ep_5_bs_4096_embedding/distance']\n",
    "\n",
    "for net in NETWORKS_NAME:\n",
    "    for m in MEASURE:\n",
    "        papers_df = load_disruption_distance(papers_df,net,m)"
   ]
  },
  {
   "cell_type": "code",
   "execution_count": 9,
   "id": "f9737db6-8d3a-4563-bad5-dd8367d5d85c",
   "metadata": {},
   "outputs": [
    {
     "data": {
      "text/html": [
       "<div>\n",
       "<style scoped>\n",
       "    .dataframe tbody tr th:only-of-type {\n",
       "        vertical-align: middle;\n",
       "    }\n",
       "\n",
       "    .dataframe tbody tr th {\n",
       "        vertical-align: top;\n",
       "    }\n",
       "\n",
       "    .dataframe thead th {\n",
       "        text-align: right;\n",
       "    }\n",
       "</style>\n",
       "<table border=\"1\" class=\"dataframe\">\n",
       "  <thead>\n",
       "    <tr style=\"text-align: right;\">\n",
       "      <th></th>\n",
       "      <th>paper_id</th>\n",
       "      <th>doi</th>\n",
       "      <th>year</th>\n",
       "      <th>date</th>\n",
       "      <th>journal_code</th>\n",
       "      <th>title</th>\n",
       "      <th>PACS1</th>\n",
       "      <th>PACS2</th>\n",
       "      <th>PACS3</th>\n",
       "      <th>PACS4</th>\n",
       "      <th>PACS5</th>\n",
       "      <th>category</th>\n",
       "      <th>citations</th>\n",
       "      <th>references</th>\n",
       "      <th>original_150_5_q_1_ep_5_bs_4096_embedding_distance</th>\n",
       "      <th>PCNT_RANK_original_150_5_q_1_ep_5_bs_4096_embedding_distance</th>\n",
       "    </tr>\n",
       "  </thead>\n",
       "  <tbody>\n",
       "    <tr>\n",
       "      <th>21</th>\n",
       "      <td>21</td>\n",
       "      <td>10.1103/PhysRev.10.244</td>\n",
       "      <td>1917.0</td>\n",
       "      <td>1917-09-01</td>\n",
       "      <td>PR</td>\n",
       "      <td>The Ionization Potential of Electrodes in Vari...</td>\n",
       "      <td>None</td>\n",
       "      <td>None</td>\n",
       "      <td>None</td>\n",
       "      <td>None</td>\n",
       "      <td>None</td>\n",
       "      <td>None</td>\n",
       "      <td>4.0</td>\n",
       "      <td>1.0</td>\n",
       "      <td>1.002730</td>\n",
       "      <td>0.922005</td>\n",
       "    </tr>\n",
       "    <tr>\n",
       "      <th>22</th>\n",
       "      <td>22</td>\n",
       "      <td>10.1103/PhysRev.10.275</td>\n",
       "      <td>1917.0</td>\n",
       "      <td>1917-09-01</td>\n",
       "      <td>PR</td>\n",
       "      <td>The Effect of Strain on Heterogeneous Equilibrium</td>\n",
       "      <td>None</td>\n",
       "      <td>None</td>\n",
       "      <td>None</td>\n",
       "      <td>None</td>\n",
       "      <td>None</td>\n",
       "      <td>None</td>\n",
       "      <td>1.0</td>\n",
       "      <td>1.0</td>\n",
       "      <td>0.999714</td>\n",
       "      <td>0.917709</td>\n",
       "    </tr>\n",
       "    <tr>\n",
       "      <th>23</th>\n",
       "      <td>23</td>\n",
       "      <td>10.1103/PhysRev.10.284</td>\n",
       "      <td>1917.0</td>\n",
       "      <td>1917-09-01</td>\n",
       "      <td>PR</td>\n",
       "      <td>Demagnetization of Iron</td>\n",
       "      <td>None</td>\n",
       "      <td>None</td>\n",
       "      <td>None</td>\n",
       "      <td>None</td>\n",
       "      <td>None</td>\n",
       "      <td>None</td>\n",
       "      <td>1.0</td>\n",
       "      <td>1.0</td>\n",
       "      <td>1.025774</td>\n",
       "      <td>0.945865</td>\n",
       "    </tr>\n",
       "    <tr>\n",
       "      <th>34</th>\n",
       "      <td>34</td>\n",
       "      <td>10.1103/PhysRev.10.495</td>\n",
       "      <td>1917.0</td>\n",
       "      <td>1917-11-01</td>\n",
       "      <td>PR</td>\n",
       "      <td>The Ionizing Potentials of Gases</td>\n",
       "      <td>None</td>\n",
       "      <td>None</td>\n",
       "      <td>None</td>\n",
       "      <td>None</td>\n",
       "      <td>None</td>\n",
       "      <td>None</td>\n",
       "      <td>5.0</td>\n",
       "      <td>2.0</td>\n",
       "      <td>1.001055</td>\n",
       "      <td>0.919679</td>\n",
       "    </tr>\n",
       "    <tr>\n",
       "      <th>35</th>\n",
       "      <td>35</td>\n",
       "      <td>10.1103/PhysRev.10.515</td>\n",
       "      <td>1917.0</td>\n",
       "      <td>1917-11-01</td>\n",
       "      <td>PR</td>\n",
       "      <td>A Determination of the Planck Radiation Consta...</td>\n",
       "      <td>None</td>\n",
       "      <td>None</td>\n",
       "      <td>None</td>\n",
       "      <td>None</td>\n",
       "      <td>None</td>\n",
       "      <td>None</td>\n",
       "      <td>1.0</td>\n",
       "      <td>1.0</td>\n",
       "      <td>0.993395</td>\n",
       "      <td>0.907852</td>\n",
       "    </tr>\n",
       "  </tbody>\n",
       "</table>\n",
       "</div>"
      ],
      "text/plain": [
       "    paper_id                     doi    year        date journal_code  \\\n",
       "21        21  10.1103/PhysRev.10.244  1917.0  1917-09-01           PR   \n",
       "22        22  10.1103/PhysRev.10.275  1917.0  1917-09-01           PR   \n",
       "23        23  10.1103/PhysRev.10.284  1917.0  1917-09-01           PR   \n",
       "34        34  10.1103/PhysRev.10.495  1917.0  1917-11-01           PR   \n",
       "35        35  10.1103/PhysRev.10.515  1917.0  1917-11-01           PR   \n",
       "\n",
       "                                                title PACS1 PACS2 PACS3 PACS4  \\\n",
       "21  The Ionization Potential of Electrodes in Vari...  None  None  None  None   \n",
       "22  The Effect of Strain on Heterogeneous Equilibrium  None  None  None  None   \n",
       "23                            Demagnetization of Iron  None  None  None  None   \n",
       "34                   The Ionizing Potentials of Gases  None  None  None  None   \n",
       "35  A Determination of the Planck Radiation Consta...  None  None  None  None   \n",
       "\n",
       "   PACS5 category  citations  references  \\\n",
       "21  None     None        4.0         1.0   \n",
       "22  None     None        1.0         1.0   \n",
       "23  None     None        1.0         1.0   \n",
       "34  None     None        5.0         2.0   \n",
       "35  None     None        1.0         1.0   \n",
       "\n",
       "    original_150_5_q_1_ep_5_bs_4096_embedding_distance  \\\n",
       "21                                           1.002730    \n",
       "22                                           0.999714    \n",
       "23                                           1.025774    \n",
       "34                                           1.001055    \n",
       "35                                           0.993395    \n",
       "\n",
       "    PCNT_RANK_original_150_5_q_1_ep_5_bs_4096_embedding_distance  \n",
       "21                                           0.922005             \n",
       "22                                           0.917709             \n",
       "23                                           0.945865             \n",
       "34                                           0.919679             \n",
       "35                                           0.907852             "
      ]
     },
     "execution_count": 9,
     "metadata": {},
     "output_type": "execute_result"
    }
   ],
   "source": [
    "papers_df.head()"
   ]
  },
  {
   "cell_type": "markdown",
   "id": "f78c773a-d878-498e-adf6-018a2d4d8260",
   "metadata": {},
   "source": [
    "# citations and references data loading"
   ]
  },
  {
   "cell_type": "code",
   "execution_count": 5,
   "id": "40afde5e-bcd5-4d8d-965e-41c185afa84d",
   "metadata": {},
   "outputs": [],
   "source": [
    "#citation network\n",
    "net = scipy.sparse.load_npz(\"/gpfs/sciencegenome/AuthorDynamics/data/aps/preprocessed/citation_net.npz\")\n",
    "citations = np.array(net.sum(axis=0))[0]\n",
    "references = np.array(net.sum(axis=1)).reshape((1,-1))[0]\n",
    "papers_df['citations'] = papers_df['paper_id'].apply(lambda x: citations[x])\n",
    "papers_df['references'] = papers_df['paper_id'].apply(lambda x: references[x])"
   ]
  },
  {
   "cell_type": "code",
   "execution_count": 6,
   "id": "5975512c-938e-4bb8-83ff-7272effa47ad",
   "metadata": {},
   "outputs": [],
   "source": [
    "papers_df = papers_df[papers_df['citations']!=0]"
   ]
  },
  {
   "cell_type": "code",
   "execution_count": 7,
   "id": "cbca7133-a523-4ed5-97bf-0df2ec46949a",
   "metadata": {},
   "outputs": [],
   "source": [
    "papers_df = papers_df[papers_df['references']!=0]"
   ]
  },
  {
   "cell_type": "code",
   "execution_count": 10,
   "id": "c1904b7c-7418-4303-8e20-b40267ad5062",
   "metadata": {},
   "outputs": [
    {
     "data": {
      "image/png": "[encoded data removed]",
      "text/plain": [
       "<Figure size 640x480 with 1 Axes>"
      ]
     },
     "metadata": {},
     "output_type": "display_data"
    }
   ],
   "source": [
    "\n",
    "import matplotlib.ticker as mticker\n",
    "fig = plt.figure()\n",
    "ax = fig.add_subplot(111)\n",
    "ax.hist(papers_df['original_150_5_q_1_ep_5_bs_4096_embedding_distance'],bins=100,color = '#00429d',alpha=0.5)\n",
    "\n",
    "ax.set_title('Distribution of $EDM$',fontsize=20)\n",
    "ax.set_xlabel('$EDM$ ', fontsize = 25)\n",
    "ax.set_ylabel('Frequency', fontsize = 25)\n",
    "ax.tick_params(labelsize=15)\n",
    "formatter = mticker.ScalarFormatter(useMathText=True)\n",
    "formatter.set_powerlimits((1,3))\n",
    "ax.yaxis.set_major_formatter(formatter)\n",
    "# plt.savefig('../data/Figures/Distribution_distance_original_n2v_w1.png',bbox_inches='tight')\n",
    "fig.show()"
   ]
  },
  {
   "cell_type": "code",
   "execution_count": null,
   "id": "b3198afe-26eb-4639-8361-6cde8cea3732",
   "metadata": {},
   "outputs": [],
   "source": []
  }
 ],
 "metadata": {
  "kernelspec": {
   "display_name": "n2v_ash",
   "language": "python",
   "name": "n2v_ash"
  },
  "language_info": {
   "codemirror_mode": {
    "name": "ipython",
    "version": 3
   },
   "file_extension": ".py",
   "mimetype": "text/x-python",
   "name": "python",
   "nbconvert_exporter": "python",
   "pygments_lexer": "ipython3",
   "version": "3.8.13"
  }
 },
 "nbformat": 4,
 "nbformat_minor": 5
}
